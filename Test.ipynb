{
  "nbformat": 4,
  "nbformat_minor": 0,
  "metadata": {
    "colab": {
      "provenance": [],
      "mount_file_id": "12-rpPFL84U8Pb5CqyyHItlC_h1C1ESPy",
      "authorship_tag": "ABX9TyMwY0+6Z92Urm4OAtS7sjp+",
      "include_colab_link": true
    },
    "kernelspec": {
      "name": "python3",
      "display_name": "Python 3"
    },
    "language_info": {
      "name": "python"
    }
  },
  "cells": [
    {
      "cell_type": "markdown",
      "metadata": {
        "id": "view-in-github",
        "colab_type": "text"
      },
      "source": [
        "<a href=\"https://colab.research.google.com/github/Meenakshipooranik/AI-Financial-ChatBot/blob/main/Test.ipynb\" target=\"_parent\"><img src=\"https://colab.research.google.com/assets/colab-badge.svg\" alt=\"Open In Colab\"/></a>"
      ]
    },
    {
      "cell_type": "code",
      "execution_count": 3,
      "metadata": {
        "colab": {
          "base_uri": "https://localhost:8080/"
        },
        "id": "BcYS7Oda5Whg",
        "outputId": "903f37d8-8eab-4626-a133-620169c99997"
      },
      "outputs": [
        {
          "name": "stdout",
          "output_type": "stream",
          "text": [
            "----------------------------------------------------------------------------\n",
            "\n",
            "Enter 'Hi' to start the chatbot session; type 'exit' to quit): hi\n",
            "\n",
            "Hello! Welcome to AI Driven Financial Chatbot!!!\n",
            "\n",
            "I can help you with your financial queries\n",
            "Please select the company name from below: -\n",
            "\n",
            "1.Microsoft \n",
            "2.Tesla \n",
            "3.Apple\n",
            "Enter company name : apple\n",
            "\n",
            "The data for the fiscal year 2023, 2022, and 2021 is currently available\n",
            "The fiscal year for the selected company : 2022\n",
            "\n",
            "Please enter your query\n",
            "What is the net income growth(%) ?\n",
            "The Net Income Growth(%) for Apple for fiscal year 2022 is 5.4109(%)\n",
            "----------------------------------------------------------------------------\n",
            "\n",
            "Enter 'Hi' to start the chatbot session; type 'exit' to quit): hi\n",
            "\n",
            "Hello! Welcome to AI Driven Financial Chatbot!!!\n",
            "\n",
            "I can help you with your financial queries\n",
            "Please select the company name from below: -\n",
            "\n",
            "1.Microsoft \n",
            "2.Tesla \n",
            "3.Apple\n",
            "Enter company name : tesla\n",
            "\n",
            "The data for the fiscal year 2023, 2022, and 2021 is currently available\n",
            "The fiscal year for the selected company : 2021\n",
            "\n",
            "Please enter your query\n",
            "What is the year by year average net income growth rate(%)?\n",
            "The Year By Year Net Income Revenue Growth Rate(%) from 2021 to 2023 for Tesla is 47.3265(%)\n",
            "----------------------------------------------------------------------------\n",
            "\n",
            "Enter 'Hi' to start the chatbot session; type 'exit' to quit): hi\n",
            "\n",
            "Hello! Welcome to AI Driven Financial Chatbot!!!\n",
            "\n",
            "I can help you with your financial queries\n",
            "Please select the company name from below: -\n",
            "\n",
            "1.Microsoft \n",
            "2.Tesla \n",
            "3.Apple\n",
            "Enter company name : Microsoft\n",
            "\n",
            "The data for the fiscal year 2023, 2022, and 2021 is currently available\n",
            "The fiscal year for the selected company : 2022\n",
            "\n",
            "Please enter your query\n",
            "Future prediction?\n",
            "Sorry, I cannot only provide information on the requested query.\n",
            "----------------------------------------------------------------------------\n",
            "\n",
            "Enter 'Hi' to start the chatbot session; type 'exit' to quit): exit\n"
          ]
        }
      ],
      "source": [
        "%run /content/drive/MyDrive/BCG/Financial_ChatBot.ipynb\n"
      ]
    }
  ]
}